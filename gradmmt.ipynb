{
 "cells": [
  {
   "cell_type": "markdown",
   "metadata": {},
   "source": [
    "# Run GradMMT\n",
    "`Update 2024-01-24`\n",
    "\n",
    "The standarized dataset could be processed by the pipeline for TULIP and GradMMT with just one step."
   ]
  },
  {
   "cell_type": "code",
   "execution_count": null,
   "metadata": {},
   "outputs": [],
   "source": [
    "from gradmmt import RolloutExperiment"
   ]
  },
  {
   "cell_type": "markdown",
   "metadata": {},
   "source": [
    "First, the config of GradMMT needs to be constructed.\n",
    "The template is shown below."
   ]
  },
  {
   "cell_type": "code",
   "execution_count": null,
   "metadata": {},
   "outputs": [],
   "source": [
    "# Configuration for IEa-MHCII dataset\n",
    "exp_config = dict(\n",
    "    model_config = dict( # Model configuration for TULIP\n",
    "        num_attn_heads = 1,\n",
    "        num_hidden_layers = 2,\n",
    "        hidden_size = 128\n",
    "    ),\n",
    "    tracks = [ # The tracks of TULIP we want to traceback\n",
    "        [('encoderA', ['attention.self.dropout']), ('decoderA', ['attention.self.dropout'])],\n",
    "        [('encoderB', ['attention.self.dropout']), ('decoderB', ['attention.self.dropout'])],\n",
    "        [('encoderE', ['attention.self.dropout']), ('decoderE', ['attention.self.dropout'])],\n",
    "        [('encoderA', ['attention.self.dropout'])],\n",
    "        [('encoderB', ['attention.self.dropout'])],\n",
    "        [('encoderE', ['attention.self.dropout'])],\n",
    "    ],\n",
    "    # Data path\n",
    "    dataset_path = \"datasets/iea-mhcii/iea-mhcii-structure.csv\",\n",
    "    mhc = False, # Whether accept MHC input\n",
    "    max_length = 50, # The max output length of the weights (all outputs will be padded to this size)\n",
    "    device = 'cuda', # The device used to compute ('cuda'/'cpu')\n",
    "    checkpoint_path = \"weights/tulip.bin\", # TULIP weights path\n",
    "    random_seed = 0, # Random Seed\n",
    "    batch_size = 512, # Batch size\n",
    "    shuffle = False, # Weather shuffle dataset\n",
    "    special_chars = [2,3,4], # The char that not be considered for later analysis (<MIS>)\n",
    "    discard_ratio = 0.9 # Discard ratio for rollout\n",
    ")\n"
   ]
  },
  {
   "cell_type": "markdown",
   "metadata": {},
   "source": [
    "Then, directly run the experiments. The output will be storaged to `storage_path`."
   ]
  },
  {
   "cell_type": "code",
   "execution_count": null,
   "metadata": {},
   "outputs": [],
   "source": [
    "# Run experiments using the configuration\n",
    "exp = RolloutExperiment(name='IEa-MHCII', storage_path='experiments/iea-mhcii', config=exp_config)\n",
    "exp()"
   ]
  }
 ],
 "metadata": {
  "kernelspec": {
   "display_name": "base",
   "language": "python",
   "name": "python3"
  },
  "language_info": {
   "name": "python",
   "version": "3.9.12"
  }
 },
 "nbformat": 4,
 "nbformat_minor": 2
}
