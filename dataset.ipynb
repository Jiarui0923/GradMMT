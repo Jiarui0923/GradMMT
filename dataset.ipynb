{
 "cells": [
  {
   "cell_type": "markdown",
   "metadata": {},
   "source": [
    "# Dataset Build\n",
    "`Update 2024-01-24`\n",
    "\n",
    "If there is self-defined dataset, please use this notebook to transform it to GradMMT readable format."
   ]
  },
  {
   "cell_type": "code",
   "execution_count": null,
   "metadata": {},
   "outputs": [],
   "source": [
    "import pandas as pd\n",
    "from gradmmt import standarize_dataframe"
   ]
  },
  {
   "cell_type": "code",
   "execution_count": null,
   "metadata": {},
   "outputs": [],
   "source": [
    "# Input dataset as DataFrame\n",
    "# Each row is a sample (TCR-pMHC binding case)\n",
    "# `mapping` defines the columns name in the dataframe\n",
    "# corresponding to the data field CdarMMT needed.\n",
    "original_data_path = '' # The path to the original file\n",
    "save_path = '' # The path to save file path\n",
    "df = pd.read_csv(original_data_path, header=0, sep='\\t')\n",
    "mapping = {\n",
    "    'CDR3b': 'cdrb', # Mapping CD3b data to column `cdrb` in the original data (Set None to be <MIS>)\n",
    "    'CDR3a': 'cdra', # Mapping CD3a data to column `cdra` in the original data (Set None to be <MIS>)\n",
    "    'peptide': 'epitope', # Mapping peptide data to column `epitope` in the original data (Set None to be <MIS>)\n",
    "    'MHC': None, # Mapping MHC data to column `?` in the original data (Set None to be <MIS>)\n",
    "    'binder': 1 # Mapping binding label to column `?` in the original data (Set 1 to be all positive, 0 to be negative)\n",
    "}\n",
    "df = standarize_dataframe(df, mapping)\n",
    "df.to_csv(save_path)"
   ]
  }
 ],
 "metadata": {
  "kernelspec": {
   "display_name": "base",
   "language": "python",
   "name": "python3"
  },
  "language_info": {
   "name": "python",
   "version": "3.9.12"
  }
 },
 "nbformat": 4,
 "nbformat_minor": 2
}
